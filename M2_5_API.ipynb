{
 "cells": [
  {
   "cell_type": "markdown",
   "id": "93871002",
   "metadata": {},
   "source": [
    "Pick one of the APIs and make a call to return some data!\n",
    "When you are done upload a link to your repo below.\n",
    "\n",
    "plan to use URL: https://weatherstack.com/dashboard\n",
    "API access key: c6512807314515e3ab1cac95653c2678\n",
    "\n",
    "Had trouble using an api access key so switched to an api the was free and did not require a key....\n",
    "url = \"https://official-joke-api.appspot.com/random_joke\""
   ]
  },
  {
   "cell_type": "code",
   "execution_count": 22,
   "id": "13a3f5cd",
   "metadata": {},
   "outputs": [],
   "source": [
    "import pandas as pd\n",
    "import requests\n",
    "import numpy as np"
   ]
  },
  {
   "cell_type": "code",
   "execution_count": 25,
   "id": "6bfa6972",
   "metadata": {},
   "outputs": [
    {
     "name": "stdout",
     "output_type": "stream",
     "text": [
      "Success! Status Code: 200\n",
      "{'type': 'general', 'setup': 'Why do birds fly south for the winter?', 'punchline': \"Because it's too far to walk.\", 'id': 344}\n"
     ]
    }
   ],
   "source": [
    "url = \"https://official-joke-api.appspot.com/random_joke\"\n",
    "#api_key = 'c6512807314515e3ab1cac95653c2678'\n",
    "\n",
    "#headers = {\n",
    "#    'Authorization': f'Bearer {api_key}'\n",
    "#}\n",
    "#response = requests.get(url, headers=headers)\n",
    "response = requests.get(url)\n",
    "if response.status_code == 200:\n",
    "    data = response.json()\n",
    "    print(f'Success! Status Code: {response.status_code}')\n",
    "    print(data)\n",
    "else:\n",
    "    print(f\"Error: Status Code: {response.status_code}\")"
   ]
  }
 ],
 "metadata": {
  "kernelspec": {
   "display_name": "Python 3",
   "language": "python",
   "name": "python3"
  },
  "language_info": {
   "codemirror_mode": {
    "name": "ipython",
    "version": 3
   },
   "file_extension": ".py",
   "mimetype": "text/x-python",
   "name": "python",
   "nbconvert_exporter": "python",
   "pygments_lexer": "ipython3",
   "version": "3.13.1"
  }
 },
 "nbformat": 4,
 "nbformat_minor": 5
}
